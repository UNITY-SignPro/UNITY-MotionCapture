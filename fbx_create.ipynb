{
 "cells": [
  {
   "cell_type": "code",
   "execution_count": 1,
   "metadata": {
    "collapsed": true,
    "pycharm": {
     "name": "#%%\n"
    }
   },
   "outputs": [],
   "source": [
    "import bpy\n",
    "import json\n",
    "from math import *"
   ]
  },
  {
   "cell_type": "code",
   "execution_count": 2,
   "outputs": [
    {
     "name": "stdout",
     "output_type": "stream",
     "text": [
      "FBX Import: start importing default2.fbx\n",
      "FBX version: 7400\n",
      "\tFBX import: Prepare...\n",
      "\t\tDone (0.000000 sec)\n",
      "\n",
      "\tFBX import: Templates...\n",
      "\t\tDone (0.000000 sec)\n",
      "\n",
      "\tFBX import: Nodes...\n",
      "\t\tDone (0.000000 sec)\n",
      "\n",
      "\tFBX import: Connections...\n",
      "\t\tDone (0.000000 sec)\n",
      "\n",
      "\tFBX import: Meshes...\n",
      "\t\tDone (0.375000 sec)\n",
      "\n",
      "\tFBX import: Materials & Textures...\n",
      "\t\tDone (0.000000 sec)\n",
      "\n",
      "\tFBX import: Cameras & Lamps...\n",
      "\t\tDone (0.000000 sec)\n",
      "\n",
      "\tFBX import: Objects & Armatures...\n",
      "\t\tDone (0.031250 sec)\n",
      "\n",
      "\tFBX import: ShapeKeys...\n",
      "\t\tDone (0.000000 sec)\n",
      "\n",
      "\tFBX import: Animations...\n",
      "\t\tDone (0.015625 sec)\n",
      "\n",
      "\tFBX import: Assign materials...\n",
      "\t\tDone (0.000000 sec)\n",
      "\n",
      "\tFBX import: Assign textures...\n",
      "\t\tDone (0.000000 sec)\n",
      "\n",
      "\tFBX import: Cycles z-offset workaround...\n",
      "\t\tDone (0.000000 sec)\n",
      "\n",
      "\tDone (0.515625 sec)\n",
      "\n",
      "Import finished.\n"
     ]
    },
    {
     "data": {
      "text/plain": "{'FINISHED'}"
     },
     "execution_count": 2,
     "metadata": {},
     "output_type": "execute_result"
    }
   ],
   "source": [
    "# bpy 초기화\n",
    "# clear scene\n",
    "for elem in bpy.data.objects:\n",
    "    bpy.data.objects.remove(bpy.data.objects[elem.name], do_unlink=True)\n",
    "# fbx 메인 모델 불러오기\n",
    "bpy.ops.import_scene.fbx(\n",
    "    filepath=\"default2.fbx\"\n",
    ")\n",
    "\n",
    "ob = bpy.data.objects['Armature']\n",
    "bpy.ops.object.mode_set(mode='POSE')"
   ],
   "metadata": {
    "collapsed": false,
    "pycharm": {
     "name": "#%%\n"
    }
   }
  },
  {
   "cell_type": "markdown",
   "source": [
    "# 3d 모션 제작 함수"
   ],
   "metadata": {
    "collapsed": false,
    "pycharm": {
     "name": "#%% md\n"
    }
   }
  },
  {
   "cell_type": "code",
   "execution_count": 3,
   "outputs": [],
   "source": [
    "# Func 관절 기초값 설정\n",
    "def defaultSetting(part, facing, angle):\n",
    "    pbone = ob.pose.bones[part]\n",
    "    pbone.rotation_mode = 'XYZ'\n",
    "    pbone.rotation_euler.rotate_axis(facing, angle)\n",
    "# Func 윗팔 각도 조정\n",
    "def UpperArmX(part, rotation, frame):\n",
    "    pbone = ob.pose.bones[part]\n",
    "    pbone.rotation_mode = 'XYZ'\n",
    "    pbone.rotation_euler.rotate_axis(\"X\", -rotation)\n",
    "    pbone.keyframe_insert(data_path=\"rotation_euler\", frame = frame)\n",
    "    pbone.rotation_euler.rotate_axis(\"X\", rotation)"
   ],
   "metadata": {
    "collapsed": false,
    "pycharm": {
     "name": "#%%\n"
    }
   }
  },
  {
   "cell_type": "code",
   "execution_count": 4,
   "outputs": [],
   "source": [
    "# Func 손가락 각도 조정\n",
    "def fingerRotate(part, rotation, frame):\n",
    "    pbone = ob.pose.bones[part]\n",
    "    pbone.rotation_mode = 'XYZ'\n",
    "    if \"Thumb\" in part:\n",
    "        pbone.rotation_euler.rotate_axis(\"Z\", -rotation)\n",
    "        pbone.keyframe_insert(data_path=\"rotation_euler\", frame = frame)\n",
    "        pbone.rotation_euler.rotate_axis(\"Z\", rotation)\n",
    "    else:\n",
    "        pbone.rotation_euler.rotate_axis(\"X\", -rotation)\n",
    "        pbone.keyframe_insert(data_path=\"rotation_euler\", frame = frame)\n",
    "        pbone.rotation_euler.rotate_axis(\"X\", rotation)"
   ],
   "metadata": {
    "collapsed": false,
    "pycharm": {
     "name": "#%%\n"
    }
   }
  },
  {
   "cell_type": "code",
   "execution_count": 5,
   "outputs": [],
   "source": [
    "defaultSetting(\"LeftArm\", \"X\", radians(90))\n",
    "defaultSetting(\"RightArm\", \"X\", radians(90))"
   ],
   "metadata": {
    "collapsed": false,
    "pycharm": {
     "name": "#%%\n"
    }
   }
  },
  {
   "cell_type": "code",
   "execution_count": 6,
   "outputs": [
    {
     "name": "stdout",
     "output_type": "stream",
     "text": [
      "0.0% 진행중...\n",
      "1.0% 진행중...\n",
      "2.0% 진행중...\n",
      "3.0% 진행중...\n",
      "4.0% 진행중...\n",
      "5.1% 진행중...\n",
      "6.1% 진행중...\n",
      "7.1% 진행중...\n",
      "8.1% 진행중...\n",
      "9.1% 진행중...\n",
      "10.100000000000001% 진행중...\n",
      "11.1% 진행중...\n",
      "12.1% 진행중...\n",
      "13.100000000000001% 진행중...\n",
      "14.099999999999998% 진행중...\n",
      "15.2% 진행중...\n",
      "16.2% 진행중...\n",
      "17.2% 진행중...\n",
      "18.2% 진행중...\n",
      "19.2% 진행중...\n",
      "20.200000000000003% 진행중...\n",
      "21.2% 진행중...\n",
      "22.2% 진행중...\n",
      "23.200000000000003% 진행중...\n",
      "24.2% 진행중...\n",
      "25.3% 진행중...\n",
      "26.3% 진행중...\n",
      "27.3% 진행중...\n",
      "28.299999999999997% 진행중...\n",
      "29.299999999999997% 진행중...\n",
      "30.3% 진행중...\n",
      "31.3% 진행중...\n",
      "32.300000000000004% 진행중...\n",
      "33.300000000000004% 진행중...\n",
      "34.300000000000004% 진행중...\n",
      "35.4% 진행중...\n",
      "36.4% 진행중...\n",
      "37.4% 진행중...\n",
      "38.4% 진행중...\n",
      "39.4% 진행중...\n",
      "40.400000000000006% 진행중...\n",
      "41.4% 진행중...\n",
      "42.4% 진행중...\n",
      "43.4% 진행중...\n",
      "44.4% 진행중...\n",
      "45.5% 진행중...\n",
      "46.5% 진행중...\n",
      "47.5% 진행중...\n",
      "48.5% 진행중...\n",
      "49.5% 진행중...\n",
      "50.5% 진행중...\n",
      "51.5% 진행중...\n",
      "52.5% 진행중...\n",
      "53.5% 진행중...\n",
      "54.50000000000001% 진행중...\n",
      "55.60000000000001% 진행중...\n",
      "56.599999999999994% 진행중...\n",
      "57.599999999999994% 진행중...\n",
      "58.599999999999994% 진행중...\n",
      "59.599999999999994% 진행중...\n",
      "60.6% 진행중...\n",
      "61.6% 진행중...\n",
      "62.6% 진행중...\n",
      "63.6% 진행중...\n",
      "64.60000000000001% 진행중...\n",
      "65.7% 진행중...\n",
      "66.7% 진행중...\n",
      "67.7% 진행중...\n",
      "68.7% 진행중...\n",
      "69.69999999999999% 진행중...\n",
      "70.7% 진행중...\n",
      "71.7% 진행중...\n",
      "72.7% 진행중...\n",
      "73.7% 진행중...\n",
      "74.7% 진행중...\n",
      "75.8% 진행중...\n",
      "76.8% 진행중...\n",
      "77.8% 진행중...\n",
      "78.8% 진행중...\n",
      "79.80000000000001% 진행중...\n",
      "80.80000000000001% 진행중...\n",
      "81.8% 진행중...\n",
      "82.8% 진행중...\n",
      "83.8% 진행중...\n",
      "84.8% 진행중...\n",
      "85.9% 진행중...\n",
      "86.9% 진행중...\n",
      "87.9% 진행중...\n",
      "88.9% 진행중...\n",
      "89.9% 진행중...\n",
      "90.9% 진행중...\n",
      "91.9% 진행중...\n",
      "92.9% 진행중...\n",
      "93.89999999999999% 진행중...\n",
      "94.89999999999999% 진행중...\n",
      "96.0% 진행중...\n",
      "97.0% 진행중...\n",
      "98.0% 진행중...\n",
      "99.0% 진행중...\n",
      "완료\n"
     ]
    }
   ],
   "source": [
    "# json을 통한 모델 리깅\n",
    "with open('./test.json', 'r') as f:\n",
    "    frames = json.load(f)\n",
    "last_frame = int([*frames.keys()][-1].replace(\"frame_\", \"\"))\n",
    "for fps in range(last_frame):\n",
    "    UpperArmX(\"LeftArm\", frames[f\"frame_{fps}\"][\"left\"][\"upperArm\"], fps)\n",
    "    UpperArmX(\"RightArm\", frames[f\"frame_{fps}\"][\"right\"][\"upperArm\"], fps)\n",
    "    try:\n",
    "        for name in [\"Thumb\", \"Index\", \"Middle\", \"Ring\", \"Pinky\"]:\n",
    "            for idx in range(1, 4):\n",
    "                # # RightHandThumb1\n",
    "                # print(f\"RightHand{name}{idx}\", -frames[f\"frame_{fps}\"][\"right\"][\"hand\"][name][str(idx)])\n",
    "                fingerRotate(f\"RightHand{name}{idx}\", -frames[f\"frame_{fps}\"][\"right\"][\"hand\"][name][str(idx)], fps)\n",
    "    except:\n",
    "        print(\"\", end=\"\")\n",
    "        # print(\"error - 데이터 없음;\")\n",
    "\n",
    "\n",
    "    print(f'{round(fps/last_frame, 3)  * 100}% 진행중...')\n",
    "print(\"완료\")"
   ],
   "metadata": {
    "collapsed": false,
    "pycharm": {
     "name": "#%%\n"
    }
   }
  },
  {
   "cell_type": "code",
   "execution_count": 7,
   "outputs": [
    {
     "name": "stdout",
     "output_type": "stream",
     "text": [
      "\n",
      "FBX export starting... 'test.fbx'\n",
      "FBX export prepare: Wrapping Objects...\n",
      "\tDone (0.000000 sec)\n",
      "\n",
      "FBX export prepare: Wrapping Data (lamps, cameras, empties)...\n",
      "\tDone (0.000000 sec)\n",
      "\n",
      "FBX export prepare: Wrapping Meshes...\n",
      "(bpy.data.armatures['Armature'], 'POSE')\n",
      "(bpy.data.armatures['Armature'], 'POSE')\n",
      "\tDone (0.000000 sec)\n",
      "\n",
      "FBX export prepare: Wrapping ShapeKeys...\n",
      "\tDone (0.000000 sec)\n",
      "\n",
      "FBX export prepare: Wrapping Armatures...\n",
      "\tDone (0.015625 sec)\n",
      "\n",
      "FBX export prepare: Wrapping World...\n",
      "\tDone (0.000000 sec)\n",
      "\n",
      "FBX export prepare: Wrapping Materials...\n",
      "\tDone (0.000000 sec)\n",
      "\n",
      "FBX export prepare: Wrapping Textures...\n",
      "\tDone (0.000000 sec)\n",
      "\n",
      "FBX export prepare: Wrapping Animations...\n",
      "\tDone (3.000000 sec)\n",
      "\n",
      "FBX export prepare: Generating templates...\n",
      "\tDone (0.000000 sec)\n",
      "\n",
      "FBX export prepare: Generating Connections...\n",
      "\tDone (0.000000 sec)\n",
      "\n",
      "FBX export fetch empties (1)...\n",
      "\tDone (0.000000 sec)\n",
      "\n",
      "FBX export fetch lamps (0)...\n",
      "\tDone (0.000000 sec)\n",
      "\n",
      "FBX export fetch cameras (0)...\n",
      "\tDone (0.000000 sec)\n",
      "\n",
      "FBX export fetch meshes (2)...\n",
      "\tDone (0.250000 sec)\n",
      "\n",
      "FBX export fetch objects (94)...\n",
      "\tDone (0.000000 sec)\n",
      "\n",
      "FBX export fetch remaining...\n",
      "\tDone (0.093750 sec)\n",
      "\n",
      "FBX export fetch animations...\n",
      "\tDone (0.015625 sec)\n",
      "\n",
      "export finished in 3.4219 sec.\n"
     ]
    },
    {
     "data": {
      "text/plain": "{'FINISHED'}"
     },
     "execution_count": 7,
     "metadata": {},
     "output_type": "execute_result"
    }
   ],
   "source": [
    "#fbx 저장\n",
    "bpy.ops.export_scene.fbx(\n",
    "    filepath=bpy.path.abspath(\"test.fbx\"),\n",
    "    use_active_collection=True\n",
    ")"
   ],
   "metadata": {
    "collapsed": false,
    "pycharm": {
     "name": "#%%\n"
    }
   }
  },
  {
   "cell_type": "code",
   "execution_count": 7,
   "outputs": [],
   "source": [],
   "metadata": {
    "collapsed": false,
    "pycharm": {
     "name": "#%%\n"
    }
   }
  }
 ],
 "metadata": {
  "kernelspec": {
   "display_name": "Python 3",
   "language": "python",
   "name": "python3"
  },
  "language_info": {
   "codemirror_mode": {
    "name": "ipython",
    "version": 2
   },
   "file_extension": ".py",
   "mimetype": "text/x-python",
   "name": "python",
   "nbconvert_exporter": "python",
   "pygments_lexer": "ipython2",
   "version": "2.7.6"
  }
 },
 "nbformat": 4,
 "nbformat_minor": 0
}