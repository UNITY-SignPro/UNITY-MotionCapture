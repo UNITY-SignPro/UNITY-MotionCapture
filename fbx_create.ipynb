{
 "cells": [
  {
   "cell_type": "code",
   "execution_count": 1,
   "metadata": {
    "collapsed": true,
    "pycharm": {
     "name": "#%%\n"
    }
   },
   "outputs": [],
   "source": [
    "import bpy\n",
    "import json\n",
    "from math import *"
   ]
  },
  {
   "cell_type": "code",
   "execution_count": 2,
   "outputs": [
    {
     "name": "stdout",
     "output_type": "stream",
     "text": [
      "FBX Import: start importing default2.fbx\n",
      "FBX version: 7400\n",
      "\tFBX import: Prepare...\n",
      "\t\tDone (0.000000 sec)\n",
      "\n",
      "\tFBX import: Templates...\n",
      "\t\tDone (0.000000 sec)\n",
      "\n",
      "\tFBX import: Nodes...\n",
      "\t\tDone (0.000000 sec)\n",
      "\n",
      "\tFBX import: Connections...\n",
      "\t\tDone (0.000000 sec)\n",
      "\n",
      "\tFBX import: Meshes...\n",
      "\t\tDone (0.421875 sec)\n",
      "\n",
      "\tFBX import: Materials & Textures...\n",
      "\t\tDone (0.031250 sec)\n",
      "\n",
      "\tFBX import: Cameras & Lamps...\n",
      "\t\tDone (0.000000 sec)\n",
      "\n",
      "\tFBX import: Objects & Armatures...\n",
      "\t\tDone (0.031250 sec)\n",
      "\n",
      "\tFBX import: ShapeKeys...\n",
      "\t\tDone (0.000000 sec)\n",
      "\n",
      "\tFBX import: Animations...\n",
      "\t\tDone (0.031250 sec)\n",
      "\n",
      "\tFBX import: Assign materials...\n",
      "\t\tDone (0.000000 sec)\n",
      "\n",
      "\tFBX import: Assign textures...\n",
      "\t\tDone (0.000000 sec)\n",
      "\n",
      "\tFBX import: Cycles z-offset workaround...\n",
      "\t\tDone (0.000000 sec)\n",
      "\n",
      "\tDone (0.625000 sec)\n",
      "\n",
      "Import finished.\n"
     ]
    },
    {
     "data": {
      "text/plain": "{'FINISHED'}"
     },
     "execution_count": 2,
     "metadata": {},
     "output_type": "execute_result"
    }
   ],
   "source": [
    "# bpy 초기화\n",
    "# clear scene\n",
    "for elem in bpy.data.objects:\n",
    "    bpy.data.objects.remove(bpy.data.objects[elem.name], do_unlink=True)\n",
    "# fbx 메인 모델 불러오기\n",
    "bpy.ops.import_scene.fbx(\n",
    "    filepath=\"default2.fbx\"\n",
    ")\n",
    "\n",
    "ob = bpy.data.objects['Armature']\n",
    "bpy.ops.object.mode_set(mode='POSE')"
   ],
   "metadata": {
    "collapsed": false,
    "pycharm": {
     "name": "#%%\n"
    }
   }
  },
  {
   "cell_type": "markdown",
   "source": [
    "# 3d 모션 제작 함수"
   ],
   "metadata": {
    "collapsed": false,
    "pycharm": {
     "name": "#%% md\n"
    }
   }
  },
  {
   "cell_type": "code",
   "execution_count": 3,
   "outputs": [],
   "source": [
    "# Func 관절 기초값 설정\n",
    "def defaultSetting(part, facing, angle):\n",
    "    pbone = ob.pose.bones[part]\n",
    "    pbone.rotation_mode = 'XYZ'\n",
    "    pbone.rotation_euler.rotate_axis(facing, angle)\n",
    "# Func 윗팔 각도 조정\n",
    "def UpperArmX(part, rotation, frame):\n",
    "    pbone = ob.pose.bones[part]\n",
    "    pbone.rotation_mode = 'XYZ'\n",
    "    pbone.rotation_euler.rotate_axis(\"X\", -rotation)\n",
    "    pbone.keyframe_insert(data_path=\"rotation_euler\", frame = frame)\n",
    "    pbone.rotation_euler.rotate_axis(\"X\", rotation)"
   ],
   "metadata": {
    "collapsed": false,
    "pycharm": {
     "name": "#%%\n"
    }
   }
  },
  {
   "cell_type": "code",
   "execution_count": 4,
   "outputs": [],
   "source": [
    "# Func 손가락 각도 조정\n",
    "def fingerRotate(part, rotation, frame):\n",
    "    pbone = ob.pose.bones[part]\n",
    "    pbone.rotation_mode = 'XYZ'\n",
    "    if \"Thumb\" in part:\n",
    "        weight = 1\n",
    "        if \"Left\" in part:\n",
    "            weight = -1\n",
    "        pbone.rotation_euler.rotate_axis(\"Z\", -rotation * weight)\n",
    "        pbone.keyframe_insert(data_path=\"rotation_euler\", frame = frame)\n",
    "        pbone.rotation_euler.rotate_axis(\"Z\", rotation * weight)\n",
    "    else:\n",
    "        pbone.rotation_euler.rotate_axis(\"X\", -rotation)\n",
    "        pbone.keyframe_insert(data_path=\"rotation_euler\", frame = frame)\n",
    "        pbone.rotation_euler.rotate_axis(\"X\", rotation)"
   ],
   "metadata": {
    "collapsed": false,
    "pycharm": {
     "name": "#%%\n"
    }
   }
  },
  {
   "cell_type": "code",
   "execution_count": 5,
   "outputs": [],
   "source": [
    "# 팔 기본 각도 세팅\n",
    "defaultSetting(\"LeftArm\", \"X\", radians(90))\n",
    "defaultSetting(\"RightArm\", \"X\", radians(90))"
   ],
   "metadata": {
    "collapsed": false,
    "pycharm": {
     "name": "#%%\n"
    }
   }
  },
  {
   "cell_type": "code",
   "execution_count": 6,
   "outputs": [
    {
     "name": "stdout",
     "output_type": "stream",
     "text": [
      "완료\n"
     ]
    }
   ],
   "source": [
    "# json을 통한 모델 리깅\n",
    "with open('./test.json', 'r') as f:\n",
    "    frames = json.load(f)\n",
    "last_frame = int([*frames.keys()][-1].replace(\"frame_\", \"\"))\n",
    "for fps in range(last_frame):\n",
    "    # 어깨 - 팔 각도 조정\n",
    "    UpperArmX(\"LeftArm\", frames[f\"frame_{fps}\"][\"left\"][\"upperArm\"], fps)\n",
    "    UpperArmX(\"RightArm\", frames[f\"frame_{fps}\"][\"right\"][\"upperArm\"], fps)\n",
    "    # 손가락 각도 조정\n",
    "    for name in [\"Thumb\", \"Index\", \"Middle\", \"Ring\", \"Pinky\"]:\n",
    "        for idx in range(1, 4):\n",
    "            if \"hand\" in frames[f\"frame_{fps}\"][\"left\"]:\n",
    "                fingerRotate(f\"LeftHand{name}{idx}\", -frames[f\"frame_{fps}\"][\"left\"][\"hand\"][name][str(idx)], fps)\n",
    "            if \"hand\" in frames[f\"frame_{fps}\"][\"right\"]:\n",
    "                fingerRotate(f\"RightHand{name}{idx}\", -frames[f\"frame_{fps}\"][\"right\"][\"hand\"][name][str(idx)], fps)\n",
    "\n",
    "    print(f'{round(fps/last_frame, 3)  * 100}% 진행중...')\n",
    "print(\"완료\")"
   ],
   "metadata": {
    "collapsed": false,
    "pycharm": {
     "name": "#%%\n"
    }
   }
  },
  {
   "cell_type": "code",
   "execution_count": null,
   "outputs": [],
   "source": [
    "#fbx 저장\n",
    "bpy.ops.export_scene.fbx(\n",
    "    filepath=bpy.path.abspath(\"test.fbx\"),\n",
    "    use_active_collection=True\n",
    ")"
   ],
   "metadata": {
    "collapsed": false,
    "pycharm": {
     "name": "#%%\n",
     "is_executing": true
    }
   }
  },
  {
   "cell_type": "code",
   "execution_count": 7,
   "outputs": [],
   "source": [],
   "metadata": {
    "collapsed": false,
    "pycharm": {
     "name": "#%%\n"
    }
   }
  }
 ],
 "metadata": {
  "kernelspec": {
   "display_name": "Python 3",
   "language": "python",
   "name": "python3"
  },
  "language_info": {
   "codemirror_mode": {
    "name": "ipython",
    "version": 2
   },
   "file_extension": ".py",
   "mimetype": "text/x-python",
   "name": "python",
   "nbconvert_exporter": "python",
   "pygments_lexer": "ipython2",
   "version": "2.7.6"
  }
 },
 "nbformat": 4,
 "nbformat_minor": 0
}