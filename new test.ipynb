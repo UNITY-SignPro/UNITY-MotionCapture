{
 "cells": [
  {
   "cell_type": "code",
   "execution_count": 2,
   "outputs": [],
   "source": [
    "import cv2\n",
    "import json\n",
    "from math import *\n",
    "import mediapipe as mp\n",
    "import numpy as np"
   ],
   "metadata": {
    "collapsed": false,
    "pycharm": {
     "name": "#%%\n"
    }
   }
  },
  {
   "cell_type": "code",
   "execution_count": 3,
   "metadata": {
    "collapsed": true,
    "pycharm": {
     "name": "#%%\n"
    }
   },
   "outputs": [],
   "source": [
    "# 어깨 관절 각도 계산\n",
    "def upperArmX(sho, arm):\n",
    "    return atan(abs(arm.x - sho.x) / abs(arm.y - sho.y))\n",
    "\n",
    "# cv2 이미지 프로세스 처리 - 포즈\n",
    "def simpleCV2Process_pose(image):\n",
    "    image.flags.writeable = False\n",
    "    image = cv2.cvtColor(image, cv2.COLOR_BGR2RGB)\n",
    "    results = pose.process(image)\n",
    "    image.flags.writeable = True\n",
    "    image = cv2.cvtColor(image, cv2.COLOR_RGB2BGR)\n",
    "    return image, results\n",
    "\n",
    "# cv2 이미지 프로세스 처리 - 손\n",
    "def simpleCV2Process_hands(image):\n",
    "    image.flags.writeable = False\n",
    "    image = cv2.cvtColor(image, cv2.COLOR_BGR2RGB)\n",
    "    results = hands.process(image)\n",
    "    image.flags.writeable = True\n",
    "    image = cv2.cvtColor(image, cv2.COLOR_RGB2BGR)\n",
    "    return image, results"
   ]
  },
  {
   "cell_type": "code",
   "execution_count": 10,
   "outputs": [],
   "source": [
    "# 벡터간의 사잇각도 측정 - 팔 각도, 손가락 마디\n",
    "# https://beanexpert.tistory.com/entry/Vision-%EB%91%90-%EC%A7%81%EC%84%A0-%EC%82%AC%EC%9D%B4%EC%9D%98-%EA%B0%81%EB%8F%84-%EC%82%AC%EC%9D%B4%EA%B0%81-%EA%B5%AC%ED%95%98%EA%B8%B0\n",
    "#\n",
    "# def toVec(head, tail):\n",
    "#     head = [head.x, head.y]\n",
    "#     tail = [tail.x, tail.y]\n",
    "#     head = np.array(head); tail = np.array(tail)\n",
    "#     return acos(np.dot(head, tail)/(np.linalg.norm(head)*np.linalg.norm(tail)))\n",
    "\n",
    "def toVec(head, tail):\n",
    "    return [ tail.x - head.x, tail.y - head.y, tail.z - head.z ]\n",
    "\n",
    "def vec2Rotate(head, tail):\n",
    "    vecIn = head[0]*tail[0] + head[1]*tail[1] + head[2]*tail[2]\n",
    "    if vecIn == 0:\n",
    "        return 0\n",
    "    vec01 = sqrt(pow(head[0], 2) + pow(head[1], 2) + pow(head[2], 2))\n",
    "    vec02 = sqrt(pow(tail[0], 2) + pow(tail[1], 2) + pow(tail[2], 2))\n",
    "    return acos(vecIn/(vec01*vec02))\n",
    "\n",
    "def fingerRotation(hand):\n",
    "    # 왼손 오른손 구분 코드도 넣어줘야됨\n",
    "    # 왼손 0 오른손 1\n",
    "\n",
    "    fingers = [\n",
    "        [[0, 1], [1, 2], [2, 3], [3, 4]],        # 엄지 손가락\n",
    "        [[0, 5], [5, 6], [6, 7], [7, 8]],        # 중지 손가락\n",
    "        [[0, 9], [9, 10], [10, 11], [11, 12]],   # 검지 손가락\n",
    "        [[0, 13], [13, 14], [14, 15], [15, 16]], # 약지 손가락\n",
    "        [[0, 17], [17, 18], [18, 19], [19, 20]]  # 소지 손가락\n",
    "    ]\n",
    "    fingerLines = []\n",
    "    joints = []\n",
    "\n",
    "    for finger in fingers:\n",
    "        temp = []\n",
    "        for fl in finger:\n",
    "            temp.append(toVec(hand.landmark[fl[0]], hand.landmark[fl[1]]))\n",
    "        fingerLines.append(temp)\n",
    "    for fl in fingerLines:\n",
    "        for joint in range(3):\n",
    "            joints.append(vec2Rotate(fl[joint], fl[joint + 1]))\n",
    "    return joints"
   ],
   "metadata": {
    "collapsed": false,
    "pycharm": {
     "name": "#%%\n"
    }
   }
  },
  {
   "cell_type": "code",
   "execution_count": 11,
   "outputs": [],
   "source": [
    "# 사용법\n",
    "# degrees(toVec(pose[10], pose[12]))"
   ],
   "metadata": {
    "collapsed": false,
    "pycharm": {
     "name": "#%%\n"
    }
   }
  },
  {
   "cell_type": "code",
   "execution_count": 31,
   "outputs": [],
   "source": [
    "mp_drawing = mp.solutions.drawing_utils\n",
    "mp_drawing_styles = mp.solutions.drawing_styles\n",
    "mp_pose = mp.solutions.pose\n",
    "\n",
    "# mp_drawing = mp.solutions.drawing_utils\n",
    "mp_hands = mp.solutions.hands\n",
    "\n",
    "\n",
    "video = \"MOV000241430_700X466\"\n",
    "\n",
    "# cap = cv2.VideoCapture(\"MOV000249438_700X466.webm\")\n",
    "cap = cv2.VideoCapture(video)\n",
    "# cap = cv2.VideoCapture(0)\n",
    "\n",
    "frames = {}\n",
    "fps = 0\n",
    "\n",
    "\n",
    "# pose 감지\n",
    "with mp_pose.Pose(min_detection_confidence=0.5, min_tracking_confidence=0.5) as pose:\n",
    "    while cap.isOpened():\n",
    "        success, image = cap.read()\n",
    "        if not success: break\n",
    "        image, results = simpleCV2Process_pose(image)\n",
    "        # mp_drawing.draw_landmarks( image, results.pose_landmarks, mp_pose.POSE_CONNECTIONS, landmark_drawing_spec=mp_drawing_styles.get_default_pose_landmarks_style())\n",
    "        # # 좌우 반전되어 있었음\n",
    "        # # cv2.imshow('MediaPipe Pose', cv2.flip(image, 1))\n",
    "        # cv2.imshow('MediaPipe Pose', image)\n",
    "        # if cv2.waitKey(10) & 0xFF == ord('q'):\n",
    "        #     break\n",
    "        frame = {}\n",
    "        frame[\"left\"] = {\"upperArm\" : upperArmX(results.pose_landmarks.landmark[11], results.pose_landmarks.landmark[13])}\n",
    "        frame[\"right\"] = {\"upperArm\" : upperArmX(results.pose_landmarks.landmark[12], results.pose_landmarks.landmark[14])}\n",
    "        frames[f\"frame_{fps}\"] = frame\n",
    "        fps += 1\n",
    "\n",
    "cap = cv2.VideoCapture(video)\n",
    "fps = 0\n",
    "with mp_hands.Hands(min_detection_confidence=0.8, min_tracking_confidence=0.5) as hands:\n",
    "    while cap.isOpened():\n",
    "        fps += 1\n",
    "        success, image = cap.read()\n",
    "        if not success: break\n",
    "        image, results = simpleCV2Process_hands(image)\n",
    "        if results.multi_hand_landmarks:\n",
    "            for num, hand in enumerate(results.multi_hand_landmarks):\n",
    "                # mp_drawing.draw_landmarks(image, hand, mp_hands.HAND_CONNECTIONS,\n",
    "                #                           mp_drawing.DrawingSpec(color=(121, 22, 76), thickness=2, circle_radius=4),\n",
    "                #                           mp_drawing.DrawingSpec(color=(250, 44, 250), thickness=2, circle_radius=2),\n",
    "                #                           )\n",
    "                # print(str(fingerRotation(hand)))\n",
    "                hands_data = fingerRotation(hand)\n",
    "                frame = {}\n",
    "                # frame[\"left\"] = {\"hand\" : {}, upperArmX(results.pose_landmarks.landmark[11], results.pose_landmarks.landmark[13])}\n",
    "                frame = {\n",
    "                    \"Thumb\" : {\n",
    "                        \"1\" : hands_data[0],\n",
    "                        \"2\" : hands_data[1],\n",
    "                        \"3\" : hands_data[2],\n",
    "                    },\n",
    "                    \"Index\" : {\n",
    "                        \"1\" : hands_data[3],\n",
    "                        \"2\" : hands_data[4],\n",
    "                        \"3\" : hands_data[5],\n",
    "                    },\n",
    "                    \"Middle\" : {\n",
    "                        \"1\" : hands_data[6],\n",
    "                        \"2\" : hands_data[7],\n",
    "                        \"3\" : hands_data[8],\n",
    "                    },\n",
    "                    \"Ring\" : {\n",
    "                        \"1\" : hands_data[9],\n",
    "                        \"2\" : hands_data[10],\n",
    "                        \"3\" : hands_data[11],\n",
    "                    },\n",
    "                    \"Pinky\" : {\n",
    "                        \"1\" : hands_data[12],\n",
    "                        \"2\" : hands_data[13],\n",
    "                        \"3\" : hands_data[14],\n",
    "                    }\n",
    "                }\n",
    "                frames[f\"frame_{fps}\"][\"right\"][\"hand\"] = frame\n",
    "                # print(frames[f\"frame_{fps}\"][\"right\"])\n",
    "\n",
    "with open('test.json', 'w', encoding='utf-8') as make_file:\n",
    "    json.dump(frames, make_file, indent=\"\\t\")\n",
    "\n",
    "# cap.release()\n",
    "# cv2.destroyAllWindows()"
   ],
   "metadata": {
    "collapsed": false,
    "pycharm": {
     "name": "#%%\n"
    }
   }
  },
  {
   "cell_type": "code",
   "execution_count": 4,
   "outputs": [],
   "source": [
    "# mp_drawing = mp.solutions.drawing_utils\n",
    "# mp_drawing_styles = mp.solutions.drawing_styles\n",
    "# mp_pose = mp.solutions.pose\n",
    "#\n",
    "# cap = cv2.VideoCapture(\"MOV000249438_700X466.webm\")\n",
    "# # cap = cv2.VideoCapture(\"yee.webm\")\n",
    "# # cap = cv2.VideoCapture(0)\n",
    "#\n",
    "# frames = {}\n",
    "# fps = 0\n",
    "#\n",
    "# with mp_pose.Pose(\n",
    "#         min_detection_confidence=0.5,\n",
    "#         min_tracking_confidence=0.5) as pose:\n",
    "#     while cap.isOpened():\n",
    "#         success, image = cap.read()\n",
    "#         if not success: break\n",
    "#         image.flags.writeable = False\n",
    "#         image = cv2.cvtColor(image, cv2.COLOR_BGR2RGB)\n",
    "#         results = pose.process(image)\n",
    "#         image.flags.writeable = True\n",
    "#         image = cv2.cvtColor(image, cv2.COLOR_RGB2BGR)\n",
    "#         mp_drawing.draw_landmarks( image, results.pose_landmarks, mp_pose.POSE_CONNECTIONS, landmark_drawing_spec=mp_drawing_styles.get_default_pose_landmarks_style())\n",
    "#         # 좌우 반전되어있었음\n",
    "#         # cv2.imshow('MediaPipe Pose', cv2.flip(image, 1))\n",
    "#         cv2.imshow('MediaPipe Pose', image)\n",
    "#         if cv2.waitKey(10) & 0xFF == ord('q'):\n",
    "#             break\n",
    "#\n",
    "#         frame = {}\n",
    "#         frame[\"left\"] = {\"upperArm\" : upperArmX(results.pose_landmarks.landmark[11], results.pose_landmarks.landmark[13])}\n",
    "#         frame[\"right\"] = {\"upperArm\" : upperArmX(results.pose_landmarks.landmark[12], results.pose_landmarks.landmark[14])}\n",
    "#         frames[f\"frame_{fps}\"] = frame\n",
    "#         fps += 1\n",
    "#\n",
    "# with open('test.json', 'w', encoding='utf-8') as make_file:\n",
    "#     json.dump(frames, make_file, indent=\"\\t\")\n",
    "#\n",
    "# cap.release()\n",
    "# cv2.destroyAllWindows()"
   ],
   "metadata": {
    "collapsed": false,
    "pycharm": {
     "name": "#%%\n"
    }
   }
  }
 ],
 "metadata": {
  "kernelspec": {
   "display_name": "Python 3",
   "language": "python",
   "name": "python3"
  },
  "language_info": {
   "codemirror_mode": {
    "name": "ipython",
    "version": 2
   },
   "file_extension": ".py",
   "mimetype": "text/x-python",
   "name": "python",
   "nbconvert_exporter": "python",
   "pygments_lexer": "ipython2",
   "version": "2.7.6"
  }
 },
 "nbformat": 4,
 "nbformat_minor": 0
}